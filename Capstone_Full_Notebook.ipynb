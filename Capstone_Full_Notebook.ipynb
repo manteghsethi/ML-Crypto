{
  "cells": [
    {
      "cell_type": "markdown",
      "metadata": {
        "id": "view-in-github",
        "colab_type": "text"
      },
      "source": [
        "<a href=\"https://colab.research.google.com/github/manteghsethi/ML-Crypto/blob/main/Capstone_Full_Notebook.ipynb\" target=\"_parent\"><img src=\"https://colab.research.google.com/assets/colab-badge.svg\" alt=\"Open In Colab\"/></a>"
      ]
    },
    {
      "cell_type": "markdown",
      "metadata": {
        "id": "AcBKVQeEcTnk"
      },
      "source": [
        "# Capstone - Intraday - Multiday Trading Model for Crypto currencies\n"
      ]
    },
    {
      "cell_type": "markdown",
      "metadata": {
        "id": "YE-hHQZ2co1r"
      },
      "source": [
        "## Problem Statement\n",
        "Algorithmic intraday trading is impacting the cryptocurrency market significantly. People have\n",
        "limitations when trading the highly volatile cryptocurrencies compared to automated trading\n",
        "algorithms which have the benefits of near-instantaneous calculations, efficient execution, and\n",
        "absence of emotional influence on trading decisions.\n",
        "This project aims to create and optimize a model for profitable automated intraday trading based on\n",
        "breakout strategies, utilising intraday price data for cryptocurrencies. This will require the\n",
        "identification of current price trends along with support and resistance levels in order to plan possible\n",
        "entry and exit points.\n",
        "The research will aim to optimize price prediction accuracy and trade execution timing through the\n",
        "integration of machine learning algorithms and technical analysis indicators, in order to improve\n",
        "profitability. The study will also examine the role of liquidity, order flow, and risk management\n",
        "techniques, ensuring the models are adaptable to rapidly changing market dynamics while minimizing\n",
        "exposure to adverse price movements."
      ]
    },
    {
      "cell_type": "markdown",
      "metadata": {
        "id": "xjyuMH98cUvt"
      },
      "source": [
        "## Literature Review\n",
        "\n",
        "#### _Who are the key people in the field_?\n",
        "\n",
        "A key researcher in the field is Professor Gil Cohen, head of the management department at\n",
        "Western Galilee Academic College, Israel. He has published much literature in financial and\n",
        "mathematical journals with a focus on algorithmic trading, and more recently specifically on intraday\n",
        "trading strategies for cryptocurrencies. In a highly relevant 2023 publication entitled “Intraday\n",
        "algorithmic trading strategies for cryptocurrencies”, he utilises 4 variants of LSTM algorithmic\n",
        "trading systems on five cryptocurrencies to identify the set-up. Cohen’s findings demonstrate that\n",
        "the model based on the relative strength index (RSI) outperforms those based on buy & hold (B&H)\n",
        "strategy, moving average convergence/divergence (MACD), and Keltner Channels [1]. We discuss his\n",
        "work further in the context of the ‘Competitor Analysis’.\n",
        "\n",
        "#### _What has the research to date shown_?\n",
        "\n",
        "The research on intraday trading strategies for cryptocurrencies spans multiple disciplines, including finance, economics, computer science, and artificial intelligence, with Bitcoin being the most commonly studied currency.\n",
        "\n",
        "Key findings include:\n",
        "\n",
        "- Technical indicators: Balcilar (2017) found trading volume to be a strong predictor of Bitcoin price, while Liu and Tsyvinski (2021) identified momentum effects linked to investor attention.\n",
        "\n",
        "- Market anomalies: Caporale and Plastun (2019) identified a \"day-of-the-week\" effect for Bitcoin, showing higher returns on Mondays.\n",
        "\n",
        "- Sentiment analysis: Studies like Jeleskovic and Mackay (2023) and Sohangir (2018) explored the impact of social media sentiment (e.g., Twitter, StockTwits) on price volatility, with varying effects depending on the currency.\n",
        "\n",
        "- Machine learning: Researchers have applied both supervised and unsupervised learning models for cryptocurrency price prediction, with popular methods including decision trees, support vector machines (SVM), and neural networks (especially LSTM). Model accuracy depends on factors like data attributes, model architecture, and hyperparameter tuning, with no single methodology consistently outperforming others."
      ]
    },
    {
      "cell_type": "markdown",
      "metadata": {
        "id": "DWixPHLhfDVf"
      },
      "source": [
        "## Proposal\n",
        "\n",
        "Our proposed intervention addresses gaps in the current literature by improving upon existing methodologies in cryptocurrency price prediction.\n",
        "\n",
        "Key improvements include:\n",
        "\n",
        "- Model architecture optimization: The research will extend existing work by comparing CNN-LSTM, bidirectional LSTM, and encoder-decoder LSTM models, which are effective for time-series prediction and long-term pattern recognition.\n",
        "\n",
        "- Hybrid approach: The model will integrate both technical indicators (RSI, MACD, and MFI) and sentiment analysis, broadening data sources to enhance prediction accuracy.\n",
        "\n",
        "- High-frequency data: The study will leverage the abundant data available in cryptocurrency markets, using high-frequency and long-term data to capture market fluctuations.\n",
        "\n",
        "- Focus on volatility and liquidity: By focusing on highly traded cryptocurrencies like Bitcoin and Ethereum, the research aims to address challenges of data volatility and liquidity, common issues in smaller cryptocurrencies."
      ]
    },
    {
      "cell_type": "markdown",
      "metadata": {
        "id": "ZIDDrbMWgWS9"
      },
      "source": [
        "# Design"
      ]
    },
    {
      "cell_type": "markdown",
      "metadata": {
        "id": "BG8s0E9Ig6Z_"
      },
      "source": [
        "## Imports"
      ]
    },
    {
      "cell_type": "code",
      "execution_count": null,
      "metadata": {
        "colab": {
          "background_save": true,
          "base_uri": "https://localhost:8080/"
        },
        "id": "Laomski-bzTC",
        "outputId": "6cbf70b0-5fbd-4516-9662-904e0d398322"
      },
      "outputs": [
        {
          "name": "stdout",
          "output_type": "stream",
          "text": [
            "Collecting python-binance\n",
            "  Downloading python_binance-1.0.19-py2.py3-none-any.whl.metadata (11 kB)\n",
            "Requirement already satisfied: requests in /usr/local/lib/python3.10/dist-packages (from python-binance) (2.32.3)\n",
            "Requirement already satisfied: six in /usr/local/lib/python3.10/dist-packages (from python-binance) (1.16.0)\n",
            "Collecting dateparser (from python-binance)\n",
            "  Downloading dateparser-1.2.0-py2.py3-none-any.whl.metadata (28 kB)\n",
            "Requirement already satisfied: aiohttp in /usr/local/lib/python3.10/dist-packages (from python-binance) (3.10.5)\n",
            "Collecting ujson (from python-binance)\n",
            "  Downloading ujson-5.10.0-cp310-cp310-manylinux_2_17_x86_64.manylinux2014_x86_64.whl.metadata (9.3 kB)\n",
            "Collecting websockets (from python-binance)\n",
            "  Downloading websockets-13.1-cp310-cp310-manylinux_2_5_x86_64.manylinux1_x86_64.manylinux_2_17_x86_64.manylinux2014_x86_64.whl.metadata (6.8 kB)\n",
            "Collecting pycryptodome (from python-binance)\n",
            "  Downloading pycryptodome-3.20.0-cp35-abi3-manylinux_2_17_x86_64.manylinux2014_x86_64.whl.metadata (3.4 kB)\n",
            "Requirement already satisfied: aiohappyeyeballs>=2.3.0 in /usr/local/lib/python3.10/dist-packages (from aiohttp->python-binance) (2.4.0)\n",
            "Requirement already satisfied: aiosignal>=1.1.2 in /usr/local/lib/python3.10/dist-packages (from aiohttp->python-binance) (1.3.1)\n",
            "Requirement already satisfied: attrs>=17.3.0 in /usr/local/lib/python3.10/dist-packages (from aiohttp->python-binance) (24.2.0)\n",
            "Requirement already satisfied: frozenlist>=1.1.1 in /usr/local/lib/python3.10/dist-packages (from aiohttp->python-binance) (1.4.1)\n",
            "Requirement already satisfied: multidict<7.0,>=4.5 in /usr/local/lib/python3.10/dist-packages (from aiohttp->python-binance) (6.1.0)\n",
            "Requirement already satisfied: yarl<2.0,>=1.0 in /usr/local/lib/python3.10/dist-packages (from aiohttp->python-binance) (1.11.1)\n",
            "Requirement already satisfied: async-timeout<5.0,>=4.0 in /usr/local/lib/python3.10/dist-packages (from aiohttp->python-binance) (4.0.3)\n",
            "Requirement already satisfied: python-dateutil in /usr/local/lib/python3.10/dist-packages (from dateparser->python-binance) (2.8.2)\n",
            "Requirement already satisfied: pytz in /usr/local/lib/python3.10/dist-packages (from dateparser->python-binance) (2024.2)\n",
            "Requirement already satisfied: regex!=2019.02.19,!=2021.8.27 in /usr/local/lib/python3.10/dist-packages (from dateparser->python-binance) (2024.9.11)\n",
            "Requirement already satisfied: tzlocal in /usr/local/lib/python3.10/dist-packages (from dateparser->python-binance) (5.2)\n",
            "Requirement already satisfied: charset-normalizer<4,>=2 in /usr/local/lib/python3.10/dist-packages (from requests->python-binance) (3.3.2)\n",
            "Requirement already satisfied: idna<4,>=2.5 in /usr/local/lib/python3.10/dist-packages (from requests->python-binance) (3.10)\n",
            "Requirement already satisfied: urllib3<3,>=1.21.1 in /usr/local/lib/python3.10/dist-packages (from requests->python-binance) (2.2.3)\n",
            "Requirement already satisfied: certifi>=2017.4.17 in /usr/local/lib/python3.10/dist-packages (from requests->python-binance) (2024.8.30)\n",
            "Requirement already satisfied: typing-extensions>=4.1.0 in /usr/local/lib/python3.10/dist-packages (from multidict<7.0,>=4.5->aiohttp->python-binance) (4.12.2)\n",
            "Downloading python_binance-1.0.19-py2.py3-none-any.whl (69 kB)\n",
            "\u001b[2K   \u001b[90m━━━━━━━━━━━━━━━━━━━━━━━━━━━━━━━━━━━━━━━━\u001b[0m \u001b[32m69.9/69.9 kB\u001b[0m \u001b[31m1.9 MB/s\u001b[0m eta \u001b[36m0:00:00\u001b[0m\n",
            "\u001b[?25hDownloading dateparser-1.2.0-py2.py3-none-any.whl (294 kB)\n",
            "\u001b[2K   \u001b[90m━━━━━━━━━━━━━━━━━━━━━━━━━━━━━━━━━━━━━━━━\u001b[0m \u001b[32m295.0/295.0 kB\u001b[0m \u001b[31m10.9 MB/s\u001b[0m eta \u001b[36m0:00:00\u001b[0m\n",
            "\u001b[?25hDownloading pycryptodome-3.20.0-cp35-abi3-manylinux_2_17_x86_64.manylinux2014_x86_64.whl (2.1 MB)\n",
            "\u001b[2K   \u001b[90m━━━━━━━━━━━━━━━━━━━━━━━━━━━━━━━━━━━━━━━━\u001b[0m \u001b[32m2.1/2.1 MB\u001b[0m \u001b[31m38.5 MB/s\u001b[0m eta \u001b[36m0:00:00\u001b[0m\n",
            "\u001b[?25hDownloading ujson-5.10.0-cp310-cp310-manylinux_2_17_x86_64.manylinux2014_x86_64.whl (53 kB)\n",
            "\u001b[2K   \u001b[90m━━━━━━━━━━━━━━━━━━━━━━━━━━━━━━━━━━━━━━━━\u001b[0m \u001b[32m53.6/53.6 kB\u001b[0m \u001b[31m1.8 MB/s\u001b[0m eta \u001b[36m0:00:00\u001b[0m\n",
            "\u001b[?25hDownloading websockets-13.1-cp310-cp310-manylinux_2_5_x86_64.manylinux1_x86_64.manylinux_2_17_x86_64.manylinux2014_x86_64.whl (164 kB)\n",
            "\u001b[2K   \u001b[90m━━━━━━━━━━━━━━━━━━━━━━━━━━━━━━━━━━━━━━━━\u001b[0m \u001b[32m164.1/164.1 kB\u001b[0m \u001b[31m8.3 MB/s\u001b[0m eta \u001b[36m0:00:00\u001b[0m\n",
            "\u001b[?25hInstalling collected packages: websockets, ujson, pycryptodome, dateparser, python-binance\n",
            "Successfully installed dateparser-1.2.0 pycryptodome-3.20.0 python-binance-1.0.19 ujson-5.10.0 websockets-13.1\n",
            "Collecting pandas_ta\n",
            "  Downloading pandas_ta-0.3.14b.tar.gz (115 kB)\n",
            "\u001b[2K     \u001b[90m━━━━━━━━━━━━━━━━━━━━━━━━━━━━━━━━━━━━━━━━\u001b[0m \u001b[32m115.1/115.1 kB\u001b[0m \u001b[31m3.3 MB/s\u001b[0m eta \u001b[36m0:00:00\u001b[0m\n",
            "\u001b[?25h  Preparing metadata (setup.py) ... \u001b[?25l\u001b[?25hdone\n",
            "Requirement already satisfied: pandas in /usr/local/lib/python3.10/dist-packages (from pandas_ta) (2.1.4)\n",
            "Requirement already satisfied: numpy<2,>=1.22.4 in /usr/local/lib/python3.10/dist-packages (from pandas->pandas_ta) (1.26.4)\n",
            "Requirement already satisfied: python-dateutil>=2.8.2 in /usr/local/lib/python3.10/dist-packages (from pandas->pandas_ta) (2.8.2)\n",
            "Requirement already satisfied: pytz>=2020.1 in /usr/local/lib/python3.10/dist-packages (from pandas->pandas_ta) (2024.2)\n",
            "Requirement already satisfied: tzdata>=2022.1 in /usr/local/lib/python3.10/dist-packages (from pandas->pandas_ta) (2024.1)\n",
            "Requirement already satisfied: six>=1.5 in /usr/local/lib/python3.10/dist-packages (from python-dateutil>=2.8.2->pandas->pandas_ta) (1.16.0)\n",
            "Building wheels for collected packages: pandas_ta\n",
            "  Building wheel for pandas_ta (setup.py) ... \u001b[?25l\u001b[?25hdone\n",
            "  Created wheel for pandas_ta: filename=pandas_ta-0.3.14b0-py3-none-any.whl size=218909 sha256=1f57f68fb45b9a809031a698816c30181f8426dc8dbdb29b0eab364aced1933f\n",
            "  Stored in directory: /root/.cache/pip/wheels/69/00/ac/f7fa862c34b0e2ef320175100c233377b4c558944f12474cf0\n",
            "Successfully built pandas_ta\n",
            "Installing collected packages: pandas_ta\n",
            "Successfully installed pandas_ta-0.3.14b0\n",
            "Requirement already satisfied: requests in /usr/local/lib/python3.10/dist-packages (2.32.3)\n",
            "Requirement already satisfied: charset-normalizer<4,>=2 in /usr/local/lib/python3.10/dist-packages (from requests) (3.3.2)\n",
            "Requirement already satisfied: idna<4,>=2.5 in /usr/local/lib/python3.10/dist-packages (from requests) (3.10)\n",
            "Requirement already satisfied: urllib3<3,>=1.21.1 in /usr/local/lib/python3.10/dist-packages (from requests) (2.2.3)\n",
            "Requirement already satisfied: certifi>=2017.4.17 in /usr/local/lib/python3.10/dist-packages (from requests) (2024.8.30)\n",
            "  % Total    % Received % Xferd  Average Speed   Time    Time     Time  Current\n",
            "                                 Dload  Upload   Total   Spent    Left  Speed\n",
            "100  4027    0  4027    0     0  15335      0 --:--:-- --:--:-- --:--:-- 15370\n",
            "100  517k  100  517k    0     0   558k      0 --:--:-- --:--:-- --:--:-- 5247k\n",
            "  % Total    % Received % Xferd  Average Speed   Time    Time     Time  Current\n",
            "                                 Dload  Upload   Total   Spent    Left  Speed\n",
            "100  4059    0  4059    0     0  17012      0 --:--:-- --:--:-- --:--:-- 17054\n",
            "100  392k  100  392k    0     0   455k      0 --:--:-- --:--:-- --:--:-- 2630k\n",
            "Requirement already satisfied: yfinance in /usr/local/lib/python3.10/dist-packages (0.2.43)\n",
            "Requirement already satisfied: pandas>=1.3.0 in /usr/local/lib/python3.10/dist-packages (from yfinance) (2.1.4)\n",
            "Requirement already satisfied: numpy>=1.16.5 in /usr/local/lib/python3.10/dist-packages (from yfinance) (1.26.4)\n",
            "Requirement already satisfied: requests>=2.31 in /usr/local/lib/python3.10/dist-packages (from yfinance) (2.32.3)\n",
            "Requirement already satisfied: multitasking>=0.0.7 in /usr/local/lib/python3.10/dist-packages (from yfinance) (0.0.11)\n",
            "Requirement already satisfied: lxml>=4.9.1 in /usr/local/lib/python3.10/dist-packages (from yfinance) (4.9.4)\n",
            "Requirement already satisfied: platformdirs>=2.0.0 in /usr/local/lib/python3.10/dist-packages (from yfinance) (4.3.6)\n",
            "Requirement already satisfied: pytz>=2022.5 in /usr/local/lib/python3.10/dist-packages (from yfinance) (2024.2)\n",
            "Requirement already satisfied: frozendict>=2.3.4 in /usr/local/lib/python3.10/dist-packages (from yfinance) (2.4.4)\n",
            "Requirement already satisfied: peewee>=3.16.2 in /usr/local/lib/python3.10/dist-packages (from yfinance) (3.17.6)\n",
            "Requirement already satisfied: beautifulsoup4>=4.11.1 in /usr/local/lib/python3.10/dist-packages (from yfinance) (4.12.3)\n",
            "Requirement already satisfied: html5lib>=1.1 in /usr/local/lib/python3.10/dist-packages (from yfinance) (1.1)\n",
            "Requirement already satisfied: soupsieve>1.2 in /usr/local/lib/python3.10/dist-packages (from beautifulsoup4>=4.11.1->yfinance) (2.6)\n",
            "Requirement already satisfied: six>=1.9 in /usr/local/lib/python3.10/dist-packages (from html5lib>=1.1->yfinance) (1.16.0)\n",
            "Requirement already satisfied: webencodings in /usr/local/lib/python3.10/dist-packages (from html5lib>=1.1->yfinance) (0.5.1)\n",
            "Requirement already satisfied: python-dateutil>=2.8.2 in /usr/local/lib/python3.10/dist-packages (from pandas>=1.3.0->yfinance) (2.8.2)\n",
            "Requirement already satisfied: tzdata>=2022.1 in /usr/local/lib/python3.10/dist-packages (from pandas>=1.3.0->yfinance) (2024.1)\n",
            "Requirement already satisfied: charset-normalizer<4,>=2 in /usr/local/lib/python3.10/dist-packages (from requests>=2.31->yfinance) (3.3.2)\n",
            "Requirement already satisfied: idna<4,>=2.5 in /usr/local/lib/python3.10/dist-packages (from requests>=2.31->yfinance) (3.10)\n",
            "Requirement already satisfied: urllib3<3,>=1.21.1 in /usr/local/lib/python3.10/dist-packages (from requests>=2.31->yfinance) (2.2.3)\n",
            "Requirement already satisfied: certifi>=2017.4.17 in /usr/local/lib/python3.10/dist-packages (from requests>=2.31->yfinance) (2024.8.30)\n"
          ]
        }
      ],
      "source": [
        "# imports\n",
        "!pip install python-binance\n",
        "!pip install pandas_ta\n",
        "!pip install requests\n",
        "\n",
        "url = 'https://anaconda.org/conda-forge/libta-lib/0.4.0/download/linux-64/libta-lib-0.4.0-h166bdaf_1.tar.bz2'\n",
        "!curl -L $url | tar xj -C /usr/lib/x86_64-linux-gnu/ lib --strip-components=1\n",
        "url = 'https://anaconda.org/conda-forge/ta-lib/0.4.19/download/linux-64/ta-lib-0.4.19-py310hde88566_4.tar.bz2'\n",
        "!curl -L $url | tar xj -C /usr/local/lib/python3.10/dist-packages/ lib/python3.10/site-packages/talib --strip-components=3\n",
        "import talib as ta\n",
        "\n",
        "!pip install yfinance\n",
        "\n",
        "# We will need to sign up for a Binance account to obtain an API key and secret from the API Management section.\n",
        "\n",
        "from binance.client import Client\n",
        "import pandas as pd\n",
        "import datetime\n",
        "import pandas as pd\n",
        "import matplotlib.pyplot as plt\n",
        "from statsmodels.graphics.tsaplots import plot_acf, plot_pacf\n",
        "import numpy as np\n",
        "import pandas as pd\n",
        "import requests\n",
        "from datetime import datetime\n",
        "from sklearn.preprocessing import StandardScaler\n",
        "from sklearn.preprocessing import MinMaxScaler\n",
        "from sklearn.model_selection import train_test_split\n",
        "from tensorflow.keras.models import Sequential\n",
        "from tensorflow.keras.layers import Conv1D, MaxPooling1D, LSTM, Dense, Flatten\n",
        "from tensorflow.keras.layers import Bidirectional\n",
        "from tensorflow.keras.layers import RepeatVector, TimeDistributed"
      ]
    },
    {
      "cell_type": "markdown",
      "metadata": {
        "id": "Lx8lHEMYg_VR"
      },
      "source": [
        "## Data Collection"
      ]
    },
    {
      "cell_type": "code",
      "execution_count": null,
      "metadata": {
        "colab": {
          "background_save": true
        },
        "id": "_kIFfBa4g0tQ",
        "outputId": "f2df57d4-8b3c-4849-ca42-7700514693c2"
      },
      "outputs": [
        {
          "ename": "BinanceAPIException",
          "evalue": "APIError(code=0): Service unavailable from a restricted location according to 'b. Eligibility' in https://www.binance.com/en/terms. Please contact customer service if you believe you received this message in error.",
          "output_type": "error",
          "traceback": [
            "\u001b[0;31m---------------------------------------------------------------------------\u001b[0m",
            "\u001b[0;31mBinanceAPIException\u001b[0m                       Traceback (most recent call last)",
            "\u001b[0;32m<ipython-input-2-6b3c91a44bfd>\u001b[0m in \u001b[0;36m<cell line: 5>\u001b[0;34m()\u001b[0m\n\u001b[1;32m      3\u001b[0m \u001b[0mapi_secret\u001b[0m \u001b[0;34m=\u001b[0m \u001b[0;34m'GvwE6YwiWjxZ18g4hJsojVAeh84MyppynB5scSymBYoDRydS1okLNRoE7W0VsBpg'\u001b[0m\u001b[0;34m\u001b[0m\u001b[0;34m\u001b[0m\u001b[0m\n\u001b[1;32m      4\u001b[0m \u001b[0;34m\u001b[0m\u001b[0m\n\u001b[0;32m----> 5\u001b[0;31m \u001b[0mclient\u001b[0m \u001b[0;34m=\u001b[0m \u001b[0mClient\u001b[0m\u001b[0;34m(\u001b[0m\u001b[0mapi_key\u001b[0m\u001b[0;34m,\u001b[0m \u001b[0mapi_secret\u001b[0m\u001b[0;34m)\u001b[0m\u001b[0;34m\u001b[0m\u001b[0;34m\u001b[0m\u001b[0m\n\u001b[0m\u001b[1;32m      6\u001b[0m \u001b[0;34m\u001b[0m\u001b[0m\n\u001b[1;32m      7\u001b[0m \u001b[0;31m# Function to get historical klines (price data) for a symbol\u001b[0m\u001b[0;34m\u001b[0m\u001b[0;34m\u001b[0m\u001b[0m\n",
            "\u001b[0;32m/usr/local/lib/python3.10/dist-packages/binance/client.py\u001b[0m in \u001b[0;36m__init__\u001b[0;34m(self, api_key, api_secret, requests_params, tld, base_endpoint, testnet, private_key, private_key_pass)\u001b[0m\n\u001b[1;32m    342\u001b[0m \u001b[0;34m\u001b[0m\u001b[0m\n\u001b[1;32m    343\u001b[0m         \u001b[0;31m# init DNS and SSL cert\u001b[0m\u001b[0;34m\u001b[0m\u001b[0;34m\u001b[0m\u001b[0m\n\u001b[0;32m--> 344\u001b[0;31m         \u001b[0mself\u001b[0m\u001b[0;34m.\u001b[0m\u001b[0mping\u001b[0m\u001b[0;34m(\u001b[0m\u001b[0;34m)\u001b[0m\u001b[0;34m\u001b[0m\u001b[0;34m\u001b[0m\u001b[0m\n\u001b[0m\u001b[1;32m    345\u001b[0m \u001b[0;34m\u001b[0m\u001b[0m\n\u001b[1;32m    346\u001b[0m     \u001b[0;32mdef\u001b[0m \u001b[0m_init_session\u001b[0m\u001b[0;34m(\u001b[0m\u001b[0mself\u001b[0m\u001b[0;34m)\u001b[0m \u001b[0;34m->\u001b[0m \u001b[0mrequests\u001b[0m\u001b[0;34m.\u001b[0m\u001b[0mSession\u001b[0m\u001b[0;34m:\u001b[0m\u001b[0;34m\u001b[0m\u001b[0;34m\u001b[0m\u001b[0m\n",
            "\u001b[0;32m/usr/local/lib/python3.10/dist-packages/binance/client.py\u001b[0m in \u001b[0;36mping\u001b[0;34m(self)\u001b[0m\n\u001b[1;32m    568\u001b[0m \u001b[0;34m\u001b[0m\u001b[0m\n\u001b[1;32m    569\u001b[0m         \"\"\"\n\u001b[0;32m--> 570\u001b[0;31m         \u001b[0;32mreturn\u001b[0m \u001b[0mself\u001b[0m\u001b[0;34m.\u001b[0m\u001b[0m_get\u001b[0m\u001b[0;34m(\u001b[0m\u001b[0;34m'ping'\u001b[0m\u001b[0;34m,\u001b[0m \u001b[0mversion\u001b[0m\u001b[0;34m=\u001b[0m\u001b[0mself\u001b[0m\u001b[0;34m.\u001b[0m\u001b[0mPRIVATE_API_VERSION\u001b[0m\u001b[0;34m)\u001b[0m\u001b[0;34m\u001b[0m\u001b[0;34m\u001b[0m\u001b[0m\n\u001b[0m\u001b[1;32m    571\u001b[0m \u001b[0;34m\u001b[0m\u001b[0m\n\u001b[1;32m    572\u001b[0m     \u001b[0;32mdef\u001b[0m \u001b[0mget_server_time\u001b[0m\u001b[0;34m(\u001b[0m\u001b[0mself\u001b[0m\u001b[0;34m)\u001b[0m \u001b[0;34m->\u001b[0m \u001b[0mDict\u001b[0m\u001b[0;34m:\u001b[0m\u001b[0;34m\u001b[0m\u001b[0;34m\u001b[0m\u001b[0m\n",
            "\u001b[0;32m/usr/local/lib/python3.10/dist-packages/binance/client.py\u001b[0m in \u001b[0;36m_get\u001b[0;34m(self, path, signed, version, **kwargs)\u001b[0m\n\u001b[1;32m    413\u001b[0m \u001b[0;34m\u001b[0m\u001b[0m\n\u001b[1;32m    414\u001b[0m     \u001b[0;32mdef\u001b[0m \u001b[0m_get\u001b[0m\u001b[0;34m(\u001b[0m\u001b[0mself\u001b[0m\u001b[0;34m,\u001b[0m \u001b[0mpath\u001b[0m\u001b[0;34m,\u001b[0m \u001b[0msigned\u001b[0m\u001b[0;34m=\u001b[0m\u001b[0;32mFalse\u001b[0m\u001b[0;34m,\u001b[0m \u001b[0mversion\u001b[0m\u001b[0;34m=\u001b[0m\u001b[0mBaseClient\u001b[0m\u001b[0;34m.\u001b[0m\u001b[0mPUBLIC_API_VERSION\u001b[0m\u001b[0;34m,\u001b[0m \u001b[0;34m**\u001b[0m\u001b[0mkwargs\u001b[0m\u001b[0;34m)\u001b[0m\u001b[0;34m:\u001b[0m\u001b[0;34m\u001b[0m\u001b[0;34m\u001b[0m\u001b[0m\n\u001b[0;32m--> 415\u001b[0;31m         \u001b[0;32mreturn\u001b[0m \u001b[0mself\u001b[0m\u001b[0;34m.\u001b[0m\u001b[0m_request_api\u001b[0m\u001b[0;34m(\u001b[0m\u001b[0;34m'get'\u001b[0m\u001b[0;34m,\u001b[0m \u001b[0mpath\u001b[0m\u001b[0;34m,\u001b[0m \u001b[0msigned\u001b[0m\u001b[0;34m,\u001b[0m \u001b[0mversion\u001b[0m\u001b[0;34m,\u001b[0m \u001b[0;34m**\u001b[0m\u001b[0mkwargs\u001b[0m\u001b[0;34m)\u001b[0m\u001b[0;34m\u001b[0m\u001b[0;34m\u001b[0m\u001b[0m\n\u001b[0m\u001b[1;32m    416\u001b[0m \u001b[0;34m\u001b[0m\u001b[0m\n\u001b[1;32m    417\u001b[0m     \u001b[0;32mdef\u001b[0m \u001b[0m_post\u001b[0m\u001b[0;34m(\u001b[0m\u001b[0mself\u001b[0m\u001b[0;34m,\u001b[0m \u001b[0mpath\u001b[0m\u001b[0;34m,\u001b[0m \u001b[0msigned\u001b[0m\u001b[0;34m=\u001b[0m\u001b[0;32mFalse\u001b[0m\u001b[0;34m,\u001b[0m \u001b[0mversion\u001b[0m\u001b[0;34m=\u001b[0m\u001b[0mBaseClient\u001b[0m\u001b[0;34m.\u001b[0m\u001b[0mPUBLIC_API_VERSION\u001b[0m\u001b[0;34m,\u001b[0m \u001b[0;34m**\u001b[0m\u001b[0mkwargs\u001b[0m\u001b[0;34m)\u001b[0m \u001b[0;34m->\u001b[0m \u001b[0mDict\u001b[0m\u001b[0;34m:\u001b[0m\u001b[0;34m\u001b[0m\u001b[0;34m\u001b[0m\u001b[0m\n",
            "\u001b[0;32m/usr/local/lib/python3.10/dist-packages/binance/client.py\u001b[0m in \u001b[0;36m_request_api\u001b[0;34m(self, method, path, signed, version, **kwargs)\u001b[0m\n\u001b[1;32m    376\u001b[0m     ):\n\u001b[1;32m    377\u001b[0m         \u001b[0muri\u001b[0m \u001b[0;34m=\u001b[0m \u001b[0mself\u001b[0m\u001b[0;34m.\u001b[0m\u001b[0m_create_api_uri\u001b[0m\u001b[0;34m(\u001b[0m\u001b[0mpath\u001b[0m\u001b[0;34m,\u001b[0m \u001b[0msigned\u001b[0m\u001b[0;34m,\u001b[0m \u001b[0mversion\u001b[0m\u001b[0;34m)\u001b[0m\u001b[0;34m\u001b[0m\u001b[0;34m\u001b[0m\u001b[0m\n\u001b[0;32m--> 378\u001b[0;31m         \u001b[0;32mreturn\u001b[0m \u001b[0mself\u001b[0m\u001b[0;34m.\u001b[0m\u001b[0m_request\u001b[0m\u001b[0;34m(\u001b[0m\u001b[0mmethod\u001b[0m\u001b[0;34m,\u001b[0m \u001b[0muri\u001b[0m\u001b[0;34m,\u001b[0m \u001b[0msigned\u001b[0m\u001b[0;34m,\u001b[0m \u001b[0;34m**\u001b[0m\u001b[0mkwargs\u001b[0m\u001b[0;34m)\u001b[0m\u001b[0;34m\u001b[0m\u001b[0;34m\u001b[0m\u001b[0m\n\u001b[0m\u001b[1;32m    379\u001b[0m \u001b[0;34m\u001b[0m\u001b[0m\n\u001b[1;32m    380\u001b[0m     \u001b[0;32mdef\u001b[0m \u001b[0m_request_futures_api\u001b[0m\u001b[0;34m(\u001b[0m\u001b[0mself\u001b[0m\u001b[0;34m,\u001b[0m \u001b[0mmethod\u001b[0m\u001b[0;34m,\u001b[0m \u001b[0mpath\u001b[0m\u001b[0;34m,\u001b[0m \u001b[0msigned\u001b[0m\u001b[0;34m=\u001b[0m\u001b[0;32mFalse\u001b[0m\u001b[0;34m,\u001b[0m \u001b[0mversion\u001b[0m\u001b[0;34m:\u001b[0m \u001b[0mint\u001b[0m \u001b[0;34m=\u001b[0m \u001b[0;36m1\u001b[0m\u001b[0;34m,\u001b[0m \u001b[0;34m**\u001b[0m\u001b[0mkwargs\u001b[0m\u001b[0;34m)\u001b[0m \u001b[0;34m->\u001b[0m \u001b[0mDict\u001b[0m\u001b[0;34m:\u001b[0m\u001b[0;34m\u001b[0m\u001b[0;34m\u001b[0m\u001b[0m\n",
            "\u001b[0;32m/usr/local/lib/python3.10/dist-packages/binance/client.py\u001b[0m in \u001b[0;36m_request\u001b[0;34m(self, method, uri, signed, force_params, **kwargs)\u001b[0m\n\u001b[1;32m    357\u001b[0m \u001b[0;34m\u001b[0m\u001b[0m\n\u001b[1;32m    358\u001b[0m         \u001b[0mself\u001b[0m\u001b[0;34m.\u001b[0m\u001b[0mresponse\u001b[0m \u001b[0;34m=\u001b[0m \u001b[0mgetattr\u001b[0m\u001b[0;34m(\u001b[0m\u001b[0mself\u001b[0m\u001b[0;34m.\u001b[0m\u001b[0msession\u001b[0m\u001b[0;34m,\u001b[0m \u001b[0mmethod\u001b[0m\u001b[0;34m)\u001b[0m\u001b[0;34m(\u001b[0m\u001b[0muri\u001b[0m\u001b[0;34m,\u001b[0m \u001b[0;34m**\u001b[0m\u001b[0mkwargs\u001b[0m\u001b[0;34m)\u001b[0m\u001b[0;34m\u001b[0m\u001b[0;34m\u001b[0m\u001b[0m\n\u001b[0;32m--> 359\u001b[0;31m         \u001b[0;32mreturn\u001b[0m \u001b[0mself\u001b[0m\u001b[0;34m.\u001b[0m\u001b[0m_handle_response\u001b[0m\u001b[0;34m(\u001b[0m\u001b[0mself\u001b[0m\u001b[0;34m.\u001b[0m\u001b[0mresponse\u001b[0m\u001b[0;34m)\u001b[0m\u001b[0;34m\u001b[0m\u001b[0;34m\u001b[0m\u001b[0m\n\u001b[0m\u001b[1;32m    360\u001b[0m \u001b[0;34m\u001b[0m\u001b[0m\n\u001b[1;32m    361\u001b[0m     \u001b[0;34m@\u001b[0m\u001b[0mstaticmethod\u001b[0m\u001b[0;34m\u001b[0m\u001b[0;34m\u001b[0m\u001b[0m\n",
            "\u001b[0;32m/usr/local/lib/python3.10/dist-packages/binance/client.py\u001b[0m in \u001b[0;36m_handle_response\u001b[0;34m(response)\u001b[0m\n\u001b[1;32m    366\u001b[0m         \"\"\"\n\u001b[1;32m    367\u001b[0m         \u001b[0;32mif\u001b[0m \u001b[0;32mnot\u001b[0m \u001b[0;34m(\u001b[0m\u001b[0;36m200\u001b[0m \u001b[0;34m<=\u001b[0m \u001b[0mresponse\u001b[0m\u001b[0;34m.\u001b[0m\u001b[0mstatus_code\u001b[0m \u001b[0;34m<\u001b[0m \u001b[0;36m300\u001b[0m\u001b[0;34m)\u001b[0m\u001b[0;34m:\u001b[0m\u001b[0;34m\u001b[0m\u001b[0;34m\u001b[0m\u001b[0m\n\u001b[0;32m--> 368\u001b[0;31m             \u001b[0;32mraise\u001b[0m \u001b[0mBinanceAPIException\u001b[0m\u001b[0;34m(\u001b[0m\u001b[0mresponse\u001b[0m\u001b[0;34m,\u001b[0m \u001b[0mresponse\u001b[0m\u001b[0;34m.\u001b[0m\u001b[0mstatus_code\u001b[0m\u001b[0;34m,\u001b[0m \u001b[0mresponse\u001b[0m\u001b[0;34m.\u001b[0m\u001b[0mtext\u001b[0m\u001b[0;34m)\u001b[0m\u001b[0;34m\u001b[0m\u001b[0;34m\u001b[0m\u001b[0m\n\u001b[0m\u001b[1;32m    369\u001b[0m         \u001b[0;32mtry\u001b[0m\u001b[0;34m:\u001b[0m\u001b[0;34m\u001b[0m\u001b[0;34m\u001b[0m\u001b[0m\n\u001b[1;32m    370\u001b[0m             \u001b[0;32mreturn\u001b[0m \u001b[0mresponse\u001b[0m\u001b[0;34m.\u001b[0m\u001b[0mjson\u001b[0m\u001b[0;34m(\u001b[0m\u001b[0;34m)\u001b[0m\u001b[0;34m\u001b[0m\u001b[0;34m\u001b[0m\u001b[0m\n",
            "\u001b[0;31mBinanceAPIException\u001b[0m: APIError(code=0): Service unavailable from a restricted location according to 'b. Eligibility' in https://www.binance.com/en/terms. Please contact customer service if you believe you received this message in error."
          ]
        }
      ],
      "source": [
        "# Initialize the Binance client\n",
        "api_key = 'X85J5pjHEeHvlqsf6nEoR0nrP3DNDrplLpkJvALWApWlZCU4NZsXDYcWfISkpPrH'\n",
        "api_secret = 'GvwE6YwiWjxZ18g4hJsojVAeh84MyppynB5scSymBYoDRydS1okLNRoE7W0VsBpg'\n",
        "\n",
        "client = Client(api_key, api_secret)\n",
        "\n",
        "# Function to get historical klines (price data) for a symbol\n",
        "def get_price_data(symbol, interval, limit=100):\n",
        "    klines = client.get_klines(symbol=symbol, interval=interval, limit=limit)\n",
        "\n",
        "    # Create a DataFrame\n",
        "    data = pd.DataFrame(klines, columns=[\n",
        "        'timestamp', 'open', 'high', 'low', 'close', 'volume',\n",
        "        'close_time', 'quote_asset_volume', 'number_of_trades',\n",
        "        'taker_buy_base_asset_volume', 'taker_buy_quote_asset_volume', 'ignore'\n",
        "    ])\n",
        "\n",
        "    # Convert timestamp to readable date\n",
        "    data['timestamp'] = pd.to_datetime(data['timestamp'], unit='ms')\n",
        "\n",
        "    # Convert the relevant columns to numeric\n",
        "    data[['open', 'high', 'low', 'close', 'volume']] = data[['open', 'high', 'low', 'close', 'volume']].apply(pd.to_numeric)\n",
        "\n",
        "    return data[['timestamp', 'open', 'high', 'low', 'close', 'volume']]\n",
        "\n",
        "# Fetch the data for Bitcoin (BTCUSDT) and Ethereum (ETHUSDT) on 1-hour timeframes\n",
        "btc_data = get_price_data('BTCUSDT', Client.KLINE_INTERVAL_1HOUR, limit=1000)\n",
        "eth_data = get_price_data('ETHUSDT', Client.KLINE_INTERVAL_1HOUR, limit=1000)\n",
        "\n"
      ]
    },
    {
      "cell_type": "markdown",
      "metadata": {
        "id": "yqmTUX8Kkasw"
      },
      "source": [
        "## Exploratony Data Analysis\n",
        "\n"
      ]
    },
    {
      "cell_type": "code",
      "execution_count": null,
      "metadata": {
        "colab": {
          "background_save": true
        },
        "id": "8GOlcE4rkiI1"
      },
      "outputs": [],
      "source": [
        "# Display the data\n",
        "print(\"BTC 1-Hour Data:\")\n",
        "print(btc_data.tail())\n",
        "\n",
        "print(\"\\nETH 1-Hour Data:\")\n",
        "print(eth_data.tail())\n",
        "\n",
        " # Plot for BTC\n",
        "plt.figure(figsize=(12, 6))\n",
        "plt.plot(btc_data['timestamp'], btc_data['close'], color='blue', linewidth=2)\n",
        "plt.title('BTC Close Price Over Time (1-Hour Intervals)', fontsize=16)\n",
        "plt.xlabel('Time', fontsize=12)\n",
        "plt.ylabel('Close Price (USDT)', fontsize=12)\n",
        "plt.xticks(rotation=45)\n",
        "plt.grid(True)\n",
        "plt.tight_layout()\n",
        "plt.show()\n",
        "\n",
        "# Plot for ETH\n",
        "plt.figure(figsize=(12, 6))\n",
        "plt.plot(eth_data['timestamp'], eth_data['close'], color='green', linewidth=2)\n",
        "plt.title('ETH Close Price Over Time (1-Hour Intervals)', fontsize=16)\n",
        "plt.xlabel('Time', fontsize=12)\n",
        "plt.ylabel('Close Price (USDT)', fontsize=12)\n",
        "plt.xticks(rotation=45)\n",
        "plt.grid(True)\n",
        "plt.tight_layout()\n",
        "plt.show()\n",
        "\n",
        "import numpy as np\n",
        "import pandas as pd\n",
        "import matplotlib.pyplot as plt\n",
        "\n",
        "# Function to calculate returns from price data\n",
        "def calculate_returns(price_data):\n",
        "    price_data['returns'] = price_data['close'].pct_change()\n",
        "    return price_data\n",
        "\n",
        "# Function to plot the distribution of returns\n",
        "def plot_return_distribution(btc_data, eth_data):\n",
        "    plt.figure(figsize=(12, 6))\n",
        "\n",
        "    # Plot BTC returns\n",
        "    plt.subplot(1, 2, 1)\n",
        "    plt.hist(btc_data['returns'].dropna(), bins=50, color='blue', alpha=0.7)\n",
        "    plt.title('Distribution of BTC Returns', fontsize=16)\n",
        "    plt.xlabel('Returns')\n",
        "    plt.ylabel('Frequency')\n",
        "\n",
        "    # Plot ETH returns\n",
        "    plt.subplot(1, 2, 2)\n",
        "    plt.hist(eth_data['returns'].dropna(), bins=50, color='green', alpha=0.7)\n",
        "    plt.title('Distribution of ETH Returns', fontsize=16)\n",
        "    plt.xlabel('Returns')\n",
        "\n",
        "    plt.tight_layout()\n",
        "    plt.show()\n",
        "\n",
        "# Function to compute and display the correlation matrix\n",
        "def plot_correlation_matrix(btc_data, eth_data):\n",
        "    returns_df = pd.DataFrame({\n",
        "        'BTC Returns': btc_data['returns'],\n",
        "        'ETH Returns': eth_data['returns']\n",
        "    })\n",
        "\n",
        "    # Calculate the correlation matrix\n",
        "    corr_matrix = returns_df.corr()\n",
        "\n",
        "    # Plot the correlation matrix\n",
        "    plt.figure(figsize=(6, 5))\n",
        "    plt.matshow(corr_matrix, cmap='coolwarm', fignum=1)\n",
        "    plt.title('Correlation Matrix of BTC and ETH Returns', pad=20, fontsize=16)\n",
        "    plt.xticks(range(len(corr_matrix.columns)), corr_matrix.columns, rotation=45)\n",
        "    plt.yticks(range(len(corr_matrix.columns)), corr_matrix.columns)\n",
        "    plt.colorbar()\n",
        "    plt.tight_layout()\n",
        "    plt.show()\n",
        "\n",
        "    return corr_matrix\n",
        "\n",
        "# Calculate returns for BTC and ETH\n",
        "btc_data = calculate_returns(btc_data)\n",
        "eth_data = calculate_returns(eth_data)\n",
        "\n",
        "# Plot return distributions and correlation matrix\n",
        "plot_return_distribution(btc_data, eth_data)\n",
        "correlation_matrix = plot_correlation_matrix(btc_data, eth_data)\n",
        "\n",
        "# Function to calculate rolling volatility (standard deviation of returns)\n",
        "def calculate_volatility(price_data, window=30):\n",
        "    price_data['volatility'] = price_data['returns'].rolling(window=window).std()\n",
        "    return price_data\n",
        "\n",
        "# Function to plot the volatility for both BTC and ETH\n",
        "def plot_volatility(btc_data, eth_data):\n",
        "    plt.figure(figsize=(12, 6))\n",
        "\n",
        "    # Plot BTC volatility\n",
        "    plt.plot(btc_data['timestamp'], btc_data['volatility'], label='BTC Volatility', color='blue', linewidth=2)\n",
        "\n",
        "    # Plot ETH volatility\n",
        "    plt.plot(eth_data['timestamp'], eth_data['volatility'], label='ETH Volatility', color='green', linewidth=2)\n",
        "\n",
        "    # Add titles and labels\n",
        "    plt.title('Volatility Over Time (Rolling 30-Hour Window)', fontsize=16)\n",
        "    plt.xlabel('Time', fontsize=12)\n",
        "    plt.ylabel('Volatility (Rolling Std. Dev.)', fontsize=12)\n",
        "\n",
        "    # Formatting the date labels\n",
        "    plt.xticks(rotation=45)\n",
        "\n",
        "    # Add grid and legend\n",
        "    plt.grid(True)\n",
        "    plt.legend(loc='upper left')\n",
        "\n",
        "    # Show plot\n",
        "    plt.tight_layout()\n",
        "    plt.show()\n",
        "\n",
        "# Calculate volatility for both BTC and ETH using a rolling window of 30 periods\n",
        "btc_data = calculate_volatility(btc_data, window=30)\n",
        "eth_data = calculate_volatility(eth_data, window=30)\n",
        "\n",
        "# Plot the volatility for both BTC and ETH\n",
        "plot_volatility(btc_data, eth_data)\n",
        "\n",
        "\n"
      ]
    },
    {
      "cell_type": "markdown",
      "metadata": {
        "id": "7QsSwJ7-n3-i"
      },
      "source": [
        "## Technical Indicators\n"
      ]
    },
    {
      "cell_type": "code",
      "execution_count": null,
      "metadata": {
        "colab": {
          "background_save": true
        },
        "id": "ZiYi4q2Gn7n5"
      },
      "outputs": [],
      "source": [
        "# Function to compute RSI, MACD, MFI, EMA, and SMA\n",
        "def compute_technical_indicators(price_data):\n",
        "    # Calculate RSI (Relative Strength Index)\n",
        "    price_data['RSI'] = ta.RSI(price_data['close'], timeperiod=14)\n",
        "\n",
        "    # Calculate MACD (Moving Average Convergence Divergence)\n",
        "    price_data['MACD'], price_data['MACD_signal'], price_data['MACD_hist'] = ta.MACD(\n",
        "        price_data['close'], fastperiod=12, slowperiod=26, signalperiod=9)\n",
        "\n",
        "    # Calculate MFI (Money Flow Index)\n",
        "    price_data['MFI'] = ta.MFI(\n",
        "        price_data['high'], price_data['low'], price_data['close'], price_data['volume'], timeperiod=14)\n",
        "\n",
        "    # Calculate EMA (Exponential Moving Average)\n",
        "    price_data['EMA_12'] = ta.EMA(price_data['close'], timeperiod=12)\n",
        "    price_data['EMA_26'] = ta.EMA(price_data['close'], timeperiod=26)\n",
        "\n",
        "    # Calculate SMA (Simple Moving Average)\n",
        "    price_data['SMA_50'] = ta.SMA(price_data['close'], timeperiod=50)\n",
        "    price_data['SMA_200'] = ta.SMA(price_data['close'], timeperiod=200)\n",
        "\n",
        "    return price_data\n",
        "\n",
        "# Compute technical indicators for BTC and ETH\n",
        "btc_data = compute_technical_indicators(btc_data)\n",
        "eth_data = compute_technical_indicators(eth_data)\n",
        "\n",
        "# Display the first few rows of the DataFrame with indicators\n",
        "print(btc_data[['timestamp', 'close', 'RSI', 'MACD', 'MACD_signal', 'MFI', 'EMA_12', 'SMA_50']].tail())\n",
        "print(eth_data[['timestamp', 'close', 'RSI', 'MACD', 'MACD_signal', 'MFI', 'EMA_12', 'SMA_50']].tail())\n"
      ]
    },
    {
      "cell_type": "markdown",
      "metadata": {
        "id": "Zo0AHd8Lr8lB"
      },
      "source": [
        "## Sentiment Analysis\n",
        "\n",
        "We will use the _Crypto Fear and Greed Index_ for sentiment Analysis.\n",
        "\n",
        "The Crypto Fear and Greed Index measures the overall sentiment in the cryptocurrency market, ranging from 0 (Extreme Fear) to 100 (Extreme Greed). It is derived from several data points:\n",
        "\n",
        "- Volatility (25%): Sudden price drops reflect fear.\n",
        "Market Momentum/Volume (25%): High volume in a rising market indicates greed.\n",
        "\n",
        "- Social Media (15%): Analyzes social media activity for sentiment.\n",
        "\n",
        "- Surveys (15%): User sentiment surveys (currently paused).\n",
        "\n",
        "- Bitcoin Dominance (10%): Increased Bitcoin dominance signals fear as investors move to the safer asset.\n",
        "\n",
        "- Google Trends (10%): Tracks search terms related to cryptocurrencies to gauge sentiment.\n",
        "\n",
        "_Why Fear and Greed Index is Better than Tweet Sentiment Analysis_\n",
        "\n",
        "- Multi-Factor Approach: Combines market data (volatility, volume) with sentiment, unlike tweet analysis, which relies solely on social media posts.\n",
        "\n",
        "- Broader Sentiment: Captures a wider range of investors, including institutional players, via Google Trends and market dominance, whereas tweet sentiment is limited to vocal retail traders.\n",
        "\n",
        "- More Accurate: Less prone to noise from bots, fake news, or emotional tweets, making it more reliable for understanding market sentiment.\n",
        "\n",
        "- Historical Context: Shows patterns over time, helping investors see if sentiment is at extreme levels compared to previous market conditions."
      ]
    },
    {
      "cell_type": "code",
      "execution_count": null,
      "metadata": {
        "colab": {
          "background_save": true
        },
        "id": "3QIFtRd_tl_w"
      },
      "outputs": [],
      "source": [
        "# Function to fetch fear and greed index data\n",
        "def fetch_fear_greed_index():\n",
        "    url = \"https://api.alternative.me/fng/?limit=10\"\n",
        "    response = requests.get(url)\n",
        "    data = response.json()\n",
        "\n",
        "    # Parse the data into a DataFrame\n",
        "    df = pd.DataFrame(data['data'])\n",
        "\n",
        "    # Convert timestamps and values to the appropriate formats\n",
        "    df['timestamp'] = pd.to_datetime(df['timestamp'], unit='s')\n",
        "    df['value'] = pd.to_numeric(df['value'])\n",
        "\n",
        "    return df\n",
        "\n",
        "# Fetch Fear and Greed Index data\n",
        "fng_data = fetch_fear_greed_index()\n",
        "\n",
        "# average value over duration to be used in confluence for trading signal\n",
        "avg_fng_value = fng_data['value'].mean()\n",
        "\n",
        "# Display the first few rows of the data\n",
        "print(fng_data.head())\n",
        "\n",
        "# Plot Fear and Greed Index over time\n",
        "plt.figure(figsize=(12, 6))\n",
        "plt.plot(fng_data['timestamp'], fng_data['value'], label='Fear and Greed Index', color='purple', linewidth=2)\n",
        "plt.title('Crypto Fear and Greed Index Over the Last 10 Days', fontsize=16)\n",
        "plt.xlabel('Date', fontsize=12)\n",
        "plt.ylabel('Index Value (0-100)', fontsize=12)\n",
        "plt.xticks(rotation=45)\n",
        "plt.grid(True)\n",
        "plt.legend(loc='upper right')\n",
        "plt.tight_layout()\n",
        "plt.show()\n",
        "\n",
        "btc_data['date'] = btc_data['timestamp'].dt.date\n",
        "fng_data['date'] = fng_data['timestamp'].dt.date\n",
        "\n",
        "# Merge Fear and Greed Index with BTC price data based on the date\n",
        "merged_data = pd.merge(btc_data, fng_data[['date', 'value']], how='inner', on='date')\n",
        "\n",
        "# Calculate correlation between Bitcoin close price and the Fear and Greed Index\n",
        "correlation = merged_data['close'].corr(merged_data['value'])\n",
        "\n",
        "print(f'Correlation between BTC price and Fear & Greed Index: {correlation:.2f}')\n",
        "\n"
      ]
    },
    {
      "cell_type": "markdown",
      "metadata": {
        "id": "tEbWUZOeyKti"
      },
      "source": [
        "## Algorithm Selection\n",
        "\n",
        "We will split the data into training and testing for different LSTM methods to derive best way to predict prices"
      ]
    },
    {
      "cell_type": "code",
      "execution_count": null,
      "metadata": {
        "colab": {
          "background_save": true
        },
        "id": "JtWWBl61yYsl"
      },
      "outputs": [],
      "source": [
        "from sklearn.preprocessing import MinMaxScaler\n",
        "from sklearn.model_selection import train_test_split\n",
        "\n",
        "# Function to preprocess data for LSTM\n",
        "def preprocess_data(price_data, time_steps=60):\n",
        "    \"\"\"\n",
        "    Prepares the data for LSTM. Converts it into sequences of `time_steps`.\n",
        "    \"\"\"\n",
        "    scaler = MinMaxScaler(feature_range=(0, 1))\n",
        "    price_data_scaled = scaler.fit_transform(price_data[['close']])\n",
        "\n",
        "    X, y = [], []\n",
        "    for i in range(time_steps, len(price_data_scaled)):\n",
        "        X.append(price_data_scaled[i-time_steps:i, 0])\n",
        "        y.append(price_data_scaled[i, 0])\n",
        "\n",
        "    X, y = np.array(X), np.array(y)\n",
        "\n",
        "    # Reshape X to be 3D (samples, time steps, features) for LSTM models\n",
        "    X = np.reshape(X, (X.shape[0], X.shape[1], 1))\n",
        "\n",
        "    return X, y, scaler\n",
        "\n",
        "# Prepare data for both BTC and ETH (60 time steps)\n",
        "btc_data_clean, btc_target, btc_scaler = preprocess_data(btc_data)\n",
        "eth_data_clean, eth_target, eth_scaler = preprocess_data(eth_data)\n",
        "\n",
        "# Split into training and testing (80% training, 20% testing)\n",
        "X_train_btc, X_test_btc, y_train_btc, y_test_btc = train_test_split(btc_data_clean, btc_target, test_size=0.2, shuffle=False)\n",
        "X_train_eth, X_test_eth, y_train_eth, y_test_eth = train_test_split(eth_data_clean, eth_target, test_size=0.2, shuffle=False)\n"
      ]
    },
    {
      "cell_type": "code",
      "execution_count": null,
      "metadata": {
        "colab": {
          "background_save": true
        },
        "id": "sUxaEMuFy3Nu"
      },
      "outputs": [],
      "source": [
        "# CNN-LSTM Model\n",
        "def build_cnn_lstm(input_shape):\n",
        "    model = Sequential()\n",
        "\n",
        "    # CNN layers\n",
        "    model.add(Conv1D(filters=64, kernel_size=2, activation='relu', input_shape=input_shape))\n",
        "    model.add(MaxPooling1D(pool_size=2))\n",
        "\n",
        "    # LSTM layers\n",
        "    model.add(LSTM(units=50, return_sequences=False))\n",
        "\n",
        "    # Dense layer\n",
        "    model.add(Dense(units=1))\n",
        "\n",
        "    model.compile(optimizer='adam', loss='mean_squared_error')\n",
        "    return model\n",
        "\n",
        "# Build and train the CNN-LSTM model for BTC\n",
        "cnn_lstm_model_btc = build_cnn_lstm((X_train_btc.shape[1], 1))\n",
        "cnn_lstm_model_btc.fit(X_train_btc, y_train_btc, epochs=10, batch_size=32)\n",
        "\n",
        "# Build and train the CNN-LSTM model for ETH\n",
        "cnn_lstm_model_eth = build_cnn_lstm((X_train_eth.shape[1], 1))\n",
        "cnn_lstm_model_eth.fit(X_train_eth, y_train_eth, epochs=10, batch_size=32)\n"
      ]
    },
    {
      "cell_type": "code",
      "execution_count": null,
      "metadata": {
        "colab": {
          "background_save": true
        },
        "id": "EYNndHqFzWJ8"
      },
      "outputs": [],
      "source": [
        "# Bidirectional LSTM Model\n",
        "def build_bidirectional_lstm(input_shape):\n",
        "    model = Sequential()\n",
        "\n",
        "    model.add(Bidirectional(LSTM(units=50, return_sequences=False), input_shape=input_shape))\n",
        "\n",
        "    # Dense layer\n",
        "    model.add(Dense(units=1))\n",
        "\n",
        "    model.compile(optimizer='adam', loss='mean_squared_error')\n",
        "    return model\n",
        "\n",
        "# Build and train the Bidirectional LSTM model for BTC\n",
        "bi_lstm_model_btc = build_bidirectional_lstm((X_train_btc.shape[1], 1))\n",
        "bi_lstm_model_btc.fit(X_train_btc, y_train_btc, epochs=10, batch_size=32)\n",
        "\n",
        "# Build and train the Bidirectional LSTM model for ETH\n",
        "bi_lstm_model_eth = build_bidirectional_lstm((X_train_eth.shape[1], 1))\n",
        "bi_lstm_model_eth.fit(X_train_eth, y_train_eth, epochs=10, batch_size=32)\n"
      ]
    },
    {
      "cell_type": "code",
      "execution_count": null,
      "metadata": {
        "colab": {
          "background_save": true
        },
        "id": "bQqBgLrT0a3B"
      },
      "outputs": [],
      "source": [
        "# Function to evaluate the model and plot predictions\n",
        "import matplotlib.pyplot as plt\n",
        "\n",
        "def evaluate_model(model, X_test, y_test, scaler, title):\n",
        "    # Make predictions\n",
        "    predictions = model.predict(X_test)\n",
        "\n",
        "    # Inverse scaling to get actual price values\n",
        "    predictions = scaler.inverse_transform(predictions)\n",
        "    y_test = scaler.inverse_transform(y_test.reshape(-1, 1))\n",
        "\n",
        "    # Plot the predictions\n",
        "    plt.figure(figsize=(10, 6))\n",
        "    plt.plot(y_test, color='blue', label='Actual Prices')\n",
        "    plt.plot(predictions, color='red', label='Predicted Prices')\n",
        "    plt.title(title)\n",
        "    plt.xlabel('Time')\n",
        "    plt.ylabel('Price')\n",
        "    plt.legend()\n",
        "    plt.show()\n",
        "\n",
        "    # Return RMSE\n",
        "    from sklearn.metrics import mean_squared_error\n",
        "    rmse = np.sqrt(mean_squared_error(y_test, predictions))\n",
        "    return rmse\n",
        "\n",
        "# Evaluate CNN-LSTM, Bidirectional LSTM LSTM for BTC\n",
        "rmse_cnn_lstm_btc = evaluate_model(cnn_lstm_model_btc, X_test_btc, y_test_btc, btc_scaler, 'CNN-LSTM BTC Predictions')\n",
        "rmse_bi_lstm_btc = evaluate_model(bi_lstm_model_btc, X_test_btc, y_test_btc, btc_scaler, 'Bidirectional LSTM BTC Predictions')\n",
        "\n",
        "# Evaluate CNN-LSTM, Bidirectional LSTM, and Encoder-Decoder LSTM for ETH\n",
        "rmse_cnn_lstm_eth = evaluate_model(cnn_lstm_model_eth, X_test_eth, y_test_eth, eth_scaler, 'CNN-LSTM ETH Predictions')\n",
        "rmse_bi_lstm_eth = evaluate_model(bi_lstm_model_eth, X_test_eth, y_test_eth, eth_scaler, 'Bidirectional LSTM ETH Predictions')\n",
        "\n",
        "# Print RMSE values for comparison\n",
        "print(f'BTC CNN-LSTM RMSE: {rmse_cnn_lstm_btc}')\n",
        "print(f'BTC Bidirectional LSTM RMSE: {rmse_bi_lstm_btc}')\n",
        "\n",
        "print(f'ETH CNN-LSTM RMSE: {rmse_cnn_lstm_eth}')\n",
        "print(f'ETH Bidirectional LSTM RMSE: {rmse_bi_lstm_eth}')\n"
      ]
    },
    {
      "cell_type": "markdown",
      "metadata": {
        "id": "1VVMfupu2OK_"
      },
      "source": [
        "### Summary:\n",
        "\n",
        "- Preprocessing: Data is scaled and split into training and testing sets, with sequences of 60 time steps.\n",
        "\n",
        "- Models: Three LSTM models are built: CNN-LSTM, Bidirectional LSTM, and Encoder-Decoder LSTM.\n",
        "\n",
        "- Evaluation: The models are evaluated using Root Mean Squared Error (RMSE) and predictions are visualized.\n",
        "\n",
        "- Comparison: RMSE values for BTC and ETH predictions are printed for comparison. These show that the CNN - LSTM method is the best"
      ]
    },
    {
      "cell_type": "markdown",
      "metadata": {
        "id": "JwL2EXM43e0H"
      },
      "source": [
        "## Trading Signals\n",
        "\n",
        "We can combine our CNN-LSTM model and fear and greed index and technical indicators to produce signals for trading\n"
      ]
    },
    {
      "cell_type": "code",
      "execution_count": null,
      "metadata": {
        "colab": {
          "background_save": true
        },
        "id": "2n4wIOho3rDO"
      },
      "outputs": [],
      "source": [
        "\n",
        "# Function to compute technical indicators and add Fear and Greed Index\n",
        "def add_technical_indicators(data, fear_greed_value):\n",
        "    # Compute RSI (Relative Strength Index) - 14 periods\n",
        "    data['RSI'] = ta.RSI(data['close'], timeperiod=14)\n",
        "\n",
        "    # Compute MACD (Moving Average Convergence Divergence)\n",
        "    data['MACD'], data['MACD_signal'], _ = ta.MACD(data['close'], fastperiod=12, slowperiod=26, signalperiod=9)\n",
        "\n",
        "    # Add Fear and Greed Index (using BTC's value for both BTC and ETH)\n",
        "    data['fear_greed'] = fear_greed_value\n",
        "\n",
        "    return data\n",
        "\n",
        "# Fetch Fear and Greed Index for BTC (use the same value for ETH)\n",
        "fear_greed_value = avg_fng_value\n",
        "\n",
        "# Add technical indicators to BTC and ETH data\n",
        "btc_data = add_technical_indicators(btc_data, fear_greed_value)\n",
        "eth_data = add_technical_indicators(eth_data, fear_greed_value)\n",
        "\n",
        "# Selecting relevant columns for prediction (close, RSI, MACD, Fear and Greed)\n",
        "btc_features = btc_data[['close', 'RSI', 'MACD', 'fear_greed']]\n",
        "eth_features = eth_data[['close', 'RSI', 'MACD', 'fear_greed']]\n",
        "\n",
        "# Scaling the data\n",
        "btc_scaler = MinMaxScaler(feature_range=(0, 1))\n",
        "eth_scaler = MinMaxScaler(feature_range=(0, 1))\n",
        "\n",
        "btc_scaled = btc_scaler.fit_transform(btc_features)\n",
        "eth_scaled = eth_scaler.fit_transform(eth_features)\n",
        "\n",
        "# Function to prepare data for LSTM\n",
        "def preprocess_data_lstm(data, time_steps=60):\n",
        "    X, y = [], []\n",
        "    for i in range(time_steps, len(data)):\n",
        "        X.append(data[i-time_steps:i])\n",
        "        y.append(data[i, 0])  # Predict the close price\n",
        "    return np.array(X), np.array(y)\n",
        "\n",
        "# Prepare data for both BTC and ETH\n",
        "X_btc, y_btc = preprocess_data_lstm(btc_scaled, time_steps=60)\n",
        "X_eth, y_eth = preprocess_data_lstm(eth_scaled, time_steps=60)\n"
      ]
    },
    {
      "cell_type": "code",
      "execution_count": null,
      "metadata": {
        "colab": {
          "background_save": true
        },
        "id": "k8bTdF7E6aeO"
      },
      "outputs": [],
      "source": [
        "# # Generate predictions using the pre-trained CNN-LSTM model\n",
        "# Predict future prices using CNN-LSTM for BTC and ETH\n",
        "btc_predictions = cnn_lstm_model_btc.predict(X_btc)\n",
        "eth_predictions = cnn_lstm_model_eth.predict(X_eth)\n",
        "\n",
        "# Create a placeholder array to match the original data shape for inverse scaling\n",
        "btc_predictions_full = np.zeros((btc_predictions.shape[0], btc_scaled.shape[1]))\n",
        "eth_predictions_full = np.zeros((eth_predictions.shape[0], eth_scaled.shape[1]))\n",
        "\n",
        "# Insert predicted close prices into the first column\n",
        "btc_predictions_full[:, 0] = btc_predictions[:, 0]\n",
        "eth_predictions_full[:, 0] = eth_predictions[:, 0]\n",
        "\n",
        "# Inverse scaling to get the actual predicted close prices\n",
        "btc_predictions_actual = btc_scaler.inverse_transform(btc_predictions_full)[:, 0]\n",
        "eth_predictions_actual = eth_scaler.inverse_transform(eth_predictions_full)[:, 0]\n",
        "\n",
        "# btc_predictions = btc_scaler.inverse_transform(np.concatenate([btc_predictions, X_btc[:, :, 1:]], axis=-1))[:, 0]\n",
        "\n",
        "# Function to generate buy/sell signals based on model prediction, RSI, MACD, and Fear & Greed Index\n",
        "def generate_trading_signals(predictions, actual_data, rsi, macd, macd_signal, fear_greed_index):\n",
        "    signals = []\n",
        "    for i in range(len(predictions)):\n",
        "        # Buy Condition\n",
        "        if predictions[i] > actual_data[i] and rsi[i] < 40 and macd[i] > macd_signal[i] and fear_greed_index[i] < 40:\n",
        "            signals.append('Buy')\n",
        "        # Sell Condition\n",
        "        elif predictions[i] < actual_data[i] and rsi[i] > 70 and macd[i] < macd_signal[i] and fear_greed_index[i] > 60:\n",
        "            signals.append('Sell')\n",
        "        else:\n",
        "            signals.append('Hold')\n",
        "    return signals\n",
        "\n",
        "# Generate buy/sell signals for BTC\n",
        "btc_signals = generate_trading_signals(\n",
        "    btc_predictions, y_btc, X_btc[:, -1, 1], X_btc[:, -1, 2], X_btc[:, -1, 3], btc_data['fear_greed'].values[-len(X_btc):]\n",
        ")\n",
        "\n",
        "# Generate buy/sell signals for ETH\n",
        "eth_signals = generate_trading_signals(\n",
        "    eth_predictions, y_eth, X_eth[:, -1, 1], X_eth[:, -1, 2], X_eth[:, -1, 3], eth_data['fear_greed'].values[-len(X_eth):]\n",
        ")\n",
        "\n",
        "# Display first 10 BTC and ETH signals\n",
        "print(\"BTC Signals: \", btc_signals[:10])\n",
        "print(\"ETH Signals: \", eth_signals[:10])\n"
      ]
    },
    {
      "cell_type": "markdown",
      "metadata": {
        "id": "YyRznvRH8-BY"
      },
      "source": [
        "## Evaluation"
      ]
    },
    {
      "cell_type": "code",
      "execution_count": null,
      "metadata": {
        "colab": {
          "background_save": true
        },
        "id": "QGmjtfBR81YJ"
      },
      "outputs": [],
      "source": [
        "import matplotlib.pyplot as plt\n",
        "\n",
        "# Plot actual vs. predicted prices with buy/sell signals for BTC\n",
        "plt.figure(figsize=(12, 6))\n",
        "plt.plot(y_btc, color='blue', label='Actual BTC Price')\n",
        "plt.plot(btc_predictions, color='red', label='Predicted BTC Price')\n",
        "\n",
        "# Mark Buy/Sell signals\n",
        "for i in range(len(btc_signals)):\n",
        "    if btc_signals[i] == 'Buy':\n",
        "        plt.scatter(i, y_btc[i], marker='^', color='green', label='Buy Signal' if i == 0 else \"\")\n",
        "    elif btc_signals[i] == 'Sell':\n",
        "        plt.scatter(i, y_btc[i], marker='v', color='red', label='Sell Signal' if i == 0 else \"\")\n",
        "\n",
        "plt.title('BTC Price Prediction with Buy/Sell Signals')\n",
        "plt.xlabel('Time')\n",
        "plt.ylabel('Price')\n",
        "plt.legend()\n",
        "plt.show()\n",
        "\n",
        "# Plot actual vs. predicted prices with buy/sell signals for ETH\n",
        "plt.figure(figsize=(12, 6))\n",
        "plt.plot(y_eth, color='blue', label='Actual ETH Price')\n",
        "plt.plot(eth_predictions, color='red', label='Predicted ETH Price')\n",
        "\n",
        "# Mark Buy/Sell signals\n",
        "for i in range(len(eth_signals)):\n",
        "    if eth_signals[i] == 'Buy':\n",
        "        plt.scatter(i, y_eth[i], marker='^', color='green', label='Buy Signal' if i == 0 else \"\")\n",
        "    elif eth_signals[i] == 'Sell':\n",
        "        plt.scatter(i, y_eth[i], marker='v', color='red', label='Sell Signal' if i == 0 else \"\")\n",
        "\n",
        "plt.title('ETH Price Prediction with Buy/Sell Signals')\n",
        "plt.xlabel('Time')\n",
        "plt.ylabel('Price')\n",
        "plt.legend()\n",
        "plt.show()\n"
      ]
    },
    {
      "cell_type": "markdown",
      "metadata": {
        "id": "GLA-z7_EAOEj"
      },
      "source": [
        "## Back Testting\n"
      ]
    },
    {
      "cell_type": "code",
      "execution_count": null,
      "metadata": {
        "colab": {
          "background_save": true
        },
        "id": "vsFOEN5cAQmZ"
      },
      "outputs": [],
      "source": [
        "# We need to perform back testing and strategy tweaking"
      ]
    },
    {
      "cell_type": "markdown",
      "metadata": {
        "id": "NNq_UwgUD3gw"
      },
      "source": [
        "# References\n",
        "\n",
        "1. Binance. (n.d.). Binance API documentation. Binance. Retrieved from https://binance-docs.github.io/apidocs/spot/en/\n",
        "2.Brownlee, J. (2017). Long Short-Term Memory Networks with Python: Develop Sequence Prediction Models with Deep Learning. Machine Learning Mastery.\n",
        "3.Chollet, F. (2018). Deep Learning with Python. Manning Publications.\n",
        "4.Alternative.me. (n.d.). Crypto Fear & Greed Index. Retrieved from https://alternative.me/crypto/fear-and-greed-index/\n",
        "5.Pedregosa, F., Varoquaux, G., Gramfort, A., Michel, V., Thirion, B., Grisel, O., ... & Duchesnay, E. (2011). Scikit-learn: Machine learning in Python. Journal of Machine Learning Research, 12, 2825–2830. https://doi.org/10.5555/1953048.2078195\n",
        "6.McKinney, W. (2010). Data Structures for Statistical Computing in Python. In Proceedings of the 9th Python in Science Conference (pp. 56-61). https://doi.org/10.25080/Majora-92bf1922-00a\n",
        "7.Warden, P. (2015). How to Use the TensorFlow LSTM Model. TensorFlow. Retrieved from https://www.tensorflow.org/tutorials\n",
        "8.The Pandas Development Team. (2020). Pandas Documentation. Retrieved from https://pandas.pydata.org/docs/\n",
        "9.Oliphant, T. E. (2006). A guide to NumPy. Trelgol Publishing.\n",
        "10.Hunter, J. D. (2007). Matplotlib: A 2D graphics environment. Computing in Science & Engineering, 9(3), 90-95. https://doi.org/10.1109/MCSE.2007.55"
      ]
    }
  ],
  "metadata": {
    "colab": {
      "collapsed_sections": [
        "Lx8lHEMYg_VR"
      ],
      "provenance": [],
      "include_colab_link": true
    },
    "kernelspec": {
      "display_name": "Python 3",
      "name": "python3"
    },
    "language_info": {
      "name": "python"
    }
  },
  "nbformat": 4,
  "nbformat_minor": 0
}